{
  "nbformat": 4,
  "nbformat_minor": 0,
  "metadata": {
    "colab": {
      "provenance": [],
      "collapsed_sections": [
        "iVIZ1BQ4QZge",
        "c9DOMWkXW24O"
      ]
    },
    "kernelspec": {
      "name": "python3",
      "display_name": "Python 3"
    },
    "language_info": {
      "name": "python"
    }
  },
  "cells": [
    {
      "cell_type": "markdown",
      "metadata": {
        "id": "yzMVjnBbGUdh"
      },
      "source": [
        "<h1 align=\"center\"><strong>Implementing Word Embeddings: Word2Vec</strong></h1>"
      ]
    },
    {
      "cell_type": "markdown",
      "metadata": {
        "id": "DVfDUzCKNN1q"
      },
      "source": [
        "![image.png](data:image/png;base64,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)"
      ]
    },
    {
      "cell_type": "markdown",
      "metadata": {
        "id": "S1BTGn3KN6LP"
      },
      "source": [
        "### How It Works"
      ]
    },
    {
      "cell_type": "markdown",
      "metadata": {
        "id": "5xVyQzgmNpDb"
      },
      "source": [
        "There are mainly 2 types in [word2vec](https://arxiv.org/abs/1310.4546)"
      ]
    },
    {
      "cell_type": "markdown",
      "metadata": {
        "id": "RSsfjOdJNe05"
      },
      "source": [
        "### Getting Started"
      ]
    },
    {
      "cell_type": "markdown",
      "metadata": {
        "id": "iVIZ1BQ4QZge"
      },
      "source": [
        "#### **Skip-Gram**"
      ]
    },
    {
      "cell_type": "code",
      "metadata": {
        "id": "H49zW8kFRKAL"
      },
      "source": [
        "import gensim\n",
        "from gensim.models import Word2Vec\n",
        "from sklearn.decomposition import PCA\n",
        "from matplotlib import pyplot"
      ],
      "execution_count": null,
      "outputs": []
    },
    {
      "cell_type": "code",
      "metadata": {
        "id": "HP9a0j62GPzJ"
      },
      "source": [
        "sentences = [['I', 'love', 'nlp'],\n",
        "             ['I', 'will', 'learn', 'nlp', 'in', '2','months'],\n",
        "             ['nlp', 'is', 'future'],\n",
        "             ['nlp', 'saves', 'time', 'and', 'solves',\n",
        "              'lot', 'of', 'industry', 'problems'],\n",
        "             ['nlp', 'uses', 'machine', 'learning']]"
      ],
      "execution_count": null,
      "outputs": []
    },
    {
      "cell_type": "code",
      "metadata": {
        "id": "cGIwqgejRve3"
      },
      "source": [
        "# Training\n",
        "skipgram = Word2Vec(sentences=sentences,\n",
        "                    size=50,\n",
        "                    window=3,\n",
        "                    min_count=1,\n",
        "                    sg=1)"
      ],
      "execution_count": null,
      "outputs": []
    },
    {
      "cell_type": "code",
      "metadata": {
        "colab": {
          "base_uri": "https://localhost:8080/"
        },
        "id": "2uJtLt6ExRBf",
        "outputId": "04397e50-f9a1-47d4-eb1f-616b01b17936"
      },
      "source": [
        "print(skipgram)"
      ],
      "execution_count": null,
      "outputs": [
        {
          "output_type": "stream",
          "name": "stdout",
          "text": [
            "Word2Vec(vocab=21, size=50, alpha=0.025)\n"
          ]
        }
      ]
    },
    {
      "cell_type": "code",
      "metadata": {
        "colab": {
          "base_uri": "https://localhost:8080/"
        },
        "id": "czCrJJCoxAGr",
        "outputId": "bd9b1a20-bce8-4b5a-abce-27374d1d7e61"
      },
      "source": [
        "list(skipgram.wv.vocab)"
      ],
      "execution_count": null,
      "outputs": [
        {
          "output_type": "execute_result",
          "data": {
            "text/plain": [
              "['I love nlp',\n",
              " 'I',\n",
              " 'will',\n",
              " 'learn',\n",
              " 'nlp',\n",
              " 'in',\n",
              " '2',\n",
              " 'months',\n",
              " 'is',\n",
              " 'future',\n",
              " 'saves',\n",
              " 'time',\n",
              " 'and',\n",
              " 'solves',\n",
              " 'lot',\n",
              " 'of',\n",
              " 'industry',\n",
              " 'problems',\n",
              " 'uses',\n",
              " 'machine',\n",
              " 'learning']"
            ]
          },
          "metadata": {},
          "execution_count": 36
        }
      ]
    },
    {
      "cell_type": "code",
      "metadata": {
        "id": "QbOsu5COSiqp"
      },
      "source": [
        "# access vector for one word\n",
        "skipgram.wv[\"deep\"]"
      ],
      "execution_count": null,
      "outputs": []
    },
    {
      "cell_type": "code",
      "metadata": {
        "id": "-QOr7eDCTbvp"
      },
      "source": [
        "''' KeyError: \"word 'deep' not in vocabulary\" '''\n",
        "skipgram.wv[\"deep\"]"
      ],
      "execution_count": null,
      "outputs": []
    },
    {
      "cell_type": "code",
      "metadata": {
        "id": "vfm549m7T6B6"
      },
      "source": [
        "# Save skip-gram model\n",
        "skipgram.save(\"skipgram.bin\")\n",
        "\n",
        "# Load skip-gram model\n",
        "skipgram = Word2Vec.load(\"skipgram.bin\")"
      ],
      "execution_count": null,
      "outputs": []
    },
    {
      "cell_type": "code",
      "metadata": {
        "colab": {
          "base_uri": "https://localhost:8080/"
        },
        "id": "v60GdTXRVgIX",
        "outputId": "452e79ad-524f-4048-e347-690fb44aaf00"
      },
      "source": [
        "list(skipgram.wv.vocab)"
      ],
      "execution_count": null,
      "outputs": [
        {
          "output_type": "execute_result",
          "data": {
            "text/plain": [
              "['I',\n",
              " 'love',\n",
              " 'nlp',\n",
              " 'will',\n",
              " 'learn',\n",
              " 'in',\n",
              " '2',\n",
              " 'months',\n",
              " 'is',\n",
              " 'future',\n",
              " 'saves',\n",
              " 'time',\n",
              " 'and',\n",
              " 'solves',\n",
              " 'lot',\n",
              " 'of',\n",
              " 'industry',\n",
              " 'problems',\n",
              " 'uses',\n",
              " 'machine',\n",
              " 'learning']"
            ]
          },
          "metadata": {},
          "execution_count": 12
        }
      ]
    },
    {
      "cell_type": "markdown",
      "metadata": {
        "id": "G56icLddU3uL"
      },
      "source": [
        "##### `T-SNE`"
      ]
    },
    {
      "cell_type": "code",
      "metadata": {
        "colab": {
          "base_uri": "https://localhost:8080/",
          "height": 319
        },
        "id": "UgtLFzoxU2Is",
        "outputId": "ed2feb6f-3ee2-4ea6-88f4-0dcc57839d96"
      },
      "source": [
        "X = skipgram[skipgram.wv.vocab]\n",
        "pca = PCA(n_components=2)\n",
        "result = pca.fit_transform(X)\n",
        "\n",
        "# Create a scatter plot of the projection\n",
        "pyplot.scatter(result[:, 0], result[:, 1])\n",
        "words = list(skipgram.wv.vocab)\n",
        "for i, word in enumerate(words):\n",
        "  pyplot.annotate(word, xy=(result[i, 0], result[i, 1]))\n",
        "pyplot.show()"
      ],
      "execution_count": null,
      "outputs": [
        {
          "output_type": "stream",
          "name": "stderr",
          "text": [
            "/usr/local/lib/python3.7/dist-packages/ipykernel_launcher.py:1: DeprecationWarning: Call to deprecated `__getitem__` (Method will be removed in 4.0.0, use self.wv.__getitem__() instead).\n",
            "  \"\"\"Entry point for launching an IPython kernel.\n"
          ]
        },
        {
          "output_type": "display_data",
          "data": {
            "image/png": "[encoded data removed]",
            "text/plain": [
              "<Figure size 432x288 with 1 Axes>"
            ]
          },
          "metadata": {
            "needs_background": "light"
          }
        }
      ]
    },
    {
      "cell_type": "markdown",
      "metadata": {
        "id": "KILXn3tbejz3"
      },
      "source": [
        "---"
      ]
    },
    {
      "cell_type": "markdown",
      "metadata": {
        "id": "c9DOMWkXW24O"
      },
      "source": [
        "#### **Continous Bag of Words (CBOW)**"
      ]
    },
    {
      "cell_type": "code",
      "metadata": {
        "id": "2s11A0grWULk"
      },
      "source": [
        "from gensim.models import Word2Vec\n",
        "from sklearn.decomposition import PCA\n",
        "from matplotlib import pyplot"
      ],
      "execution_count": null,
      "outputs": []
    },
    {
      "cell_type": "code",
      "metadata": {
        "id": "p4daCyZVXD9s"
      },
      "source": [
        "# Example sentences\n",
        "sentences = [['I', 'love', 'nlp'],\n",
        "             ['I', 'will', 'learn', 'nlp', 'in', '2','months'],\n",
        "             ['nlp', 'is', 'future'],\n",
        "             ['nlp', 'saves', 'time', 'and', 'solves',\n",
        "              'lot', 'of', 'industry', 'problems'],\n",
        "             ['nlp', 'uses', 'machine', 'learning']]"
      ],
      "execution_count": null,
      "outputs": []
    },
    {
      "cell_type": "code",
      "metadata": {
        "colab": {
          "base_uri": "https://localhost:8080/"
        },
        "id": "M6l04ewhXKGW",
        "outputId": "3391ced1-7ab0-4172-daca-de8b2b59f98d"
      },
      "source": [
        "# Training the cbow model\n",
        "cbow = Word2Vec(sentences, size =50, window = 3, min_count=1,sg = 0)\n",
        "print(cbow)"
      ],
      "execution_count": null,
      "outputs": [
        {
          "output_type": "stream",
          "name": "stdout",
          "text": [
            "Word2Vec(vocab=21, size=50, alpha=0.025)\n"
          ]
        }
      ]
    },
    {
      "cell_type": "code",
      "metadata": {
        "id": "QhpTjBn3XUlx"
      },
      "source": [
        "# save model\n",
        "cbow.save('cbow.bin')\n",
        "\n",
        "# load model\n",
        "cbow = Word2Vec.load('cbow.bin')"
      ],
      "execution_count": null,
      "outputs": []
    },
    {
      "cell_type": "code",
      "metadata": {
        "colab": {
          "base_uri": "https://localhost:8080/",
          "height": 319
        },
        "id": "o2fGQ9vRXXmJ",
        "outputId": "80eb7c30-abfe-4bfb-ec4d-f0100dde0620"
      },
      "source": [
        "X = cbow[cbow.wv.vocab]\n",
        "pca = PCA(n_components=2)\n",
        "result = pca.fit_transform(X)\n",
        "\n",
        "# create a scatter plot of the projection\n",
        "pyplot.scatter(result[:, 0], result[:, 1])\n",
        "words = list(cbow.wv.vocab)\n",
        "for i, word in enumerate(words):\n",
        " pyplot.annotate(word, xy=(result[i, 0], result[i, 1]))\n",
        "pyplot.show()"
      ],
      "execution_count": null,
      "outputs": [
        {
          "output_type": "stream",
          "name": "stderr",
          "text": [
            "/usr/local/lib/python3.7/dist-packages/ipykernel_launcher.py:1: DeprecationWarning: Call to deprecated `__getitem__` (Method will be removed in 4.0.0, use self.wv.__getitem__() instead).\n",
            "  \"\"\"Entry point for launching an IPython kernel.\n"
          ]
        },
        {
          "output_type": "display_data",
          "data": {
            "image/png": "[encoded data removed]",
            "text/plain": [
              "<Figure size 432x288 with 1 Axes>"
            ]
          },
          "metadata": {
            "needs_background": "light"
          }
        }
      ]
    },
    {
      "cell_type": "markdown",
      "metadata": {
        "id": "O0N3fsp1eqgR"
      },
      "source": [
        "---"
      ]
    },
    {
      "cell_type": "markdown",
      "metadata": {
        "id": "ovMCIXP8X5cM"
      },
      "source": [
        "#### **More features**"
      ]
    },
    {
      "cell_type": "markdown",
      "metadata": {
        "id": "wQdmVv1FYUpN"
      },
      "source": [
        "To train these models, it requires a huge amount of computing\n",
        "power. So, let us go ahead and use [Google’s pre-trained model](https://drive.google.com/file/d/0B7XkCwpI5KDYNlNUTTlSS21pQmM/edit), which has\n",
        "been trained with over 100 billion words."
      ]
    },
    {
      "cell_type": "code",
      "metadata": {
        "id": "yUgukARMYAmi"
      },
      "source": [
        "!gdown --id 0B7XkCwpI5KDYNlNUTTlSS21pQmM --quiet"
      ],
      "execution_count": null,
      "outputs": []
    },
    {
      "cell_type": "code",
      "metadata": {
        "id": "6FWAYhvhYKbn"
      },
      "source": [
        "# unzip GoogleNews-vectors-negative300.bin.gz file\n",
        "import gzip\n",
        "import shutil\n",
        "with gzip.open('GoogleNews-vectors-negative300.bin.gz', 'rb') as f_in:\n",
        "    with open('GoogleNews-vectors-negative300.bin', 'wb') as f_out:\n",
        "        shutil.copyfileobj(f_in, f_out)"
      ],
      "execution_count": null,
      "outputs": []
    },
    {
      "cell_type": "code",
      "metadata": {
        "colab": {
          "base_uri": "https://localhost:8080/"
        },
        "id": "EzagvUhGYwNU",
        "outputId": "f1728662-1704-4999-e5a9-f2c0d4661413"
      },
      "source": [
        "import gensim\n",
        "from gensim.models import KeyedVectors\n",
        "\n",
        "# Load the saved model\n",
        "model = KeyedVectors.load_word2vec_format('GoogleNews-vectors-negative300.bin', binary=True)\n",
        "\n",
        "# Checking how similarity works.\n",
        "print (model.similarity('this', 'is'))"
      ],
      "execution_count": null,
      "outputs": [
        {
          "output_type": "stream",
          "name": "stdout",
          "text": [
            "0.40797037\n"
          ]
        }
      ]
    },
    {
      "cell_type": "code",
      "metadata": {
        "id": "AptqoW1K4xCC"
      },
      "source": [
        "len(list(model.wv.vocab))"
      ],
      "execution_count": null,
      "outputs": []
    },
    {
      "cell_type": "code",
      "metadata": {
        "colab": {
          "base_uri": "https://localhost:8080/"
        },
        "id": "MZ0-o9I6ZpzQ",
        "outputId": "e119fe8b-b1c9-4efa-d8d0-8518b01de234"
      },
      "source": [
        "# Lets check one more.\n",
        "print (model.similarity('post', 'book'))"
      ],
      "execution_count": null,
      "outputs": [
        {
          "output_type": "stream",
          "name": "stdout",
          "text": [
            "0.057204384\n"
          ]
        }
      ]
    },
    {
      "cell_type": "code",
      "metadata": {
        "colab": {
          "base_uri": "https://localhost:8080/"
        },
        "id": "AeE1I0HVbppm",
        "outputId": "dce24d35-e488-4a24-9112-a3526e9fa8fc"
      },
      "source": [
        "# Lets check one more.\n",
        "print (model.similarity('Rome', 'Paris'))"
      ],
      "execution_count": null,
      "outputs": [
        {
          "output_type": "stream",
          "name": "stdout",
          "text": [
            "0.55004156\n"
          ]
        }
      ]
    },
    {
      "cell_type": "code",
      "metadata": {
        "colab": {
          "base_uri": "https://localhost:8080/"
        },
        "id": "9uMC-LPUbvlv",
        "outputId": "86c6312c-d2e5-48b2-f064-4b3245bf3baa"
      },
      "source": [
        "# It is also finding the relations between words.\n",
        "model.most_similar(positive=['woman', 'king'], negative=['man'])"
      ],
      "execution_count": null,
      "outputs": [
        {
          "output_type": "execute_result",
          "data": {
            "text/plain": [
              "[('queen', 0.7118192911148071),\n",
              " ('monarch', 0.6189674139022827),\n",
              " ('princess', 0.5902431011199951),\n",
              " ('crown_prince', 0.5499460697174072),\n",
              " ('prince', 0.5377321243286133),\n",
              " ('kings', 0.5236844420433044),\n",
              " ('Queen_Consort', 0.5235945582389832),\n",
              " ('queens', 0.518113374710083),\n",
              " ('sultan', 0.5098593235015869),\n",
              " ('monarchy', 0.5087411999702454)]"
            ]
          },
          "metadata": {},
          "execution_count": 8
        }
      ]
    },
    {
      "cell_type": "markdown",
      "metadata": {
        "id": "thGNuWWOcqGW"
      },
      "source": [
        "![image.png](data:image/png;base64,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)"
      ]
    },
    {
      "cell_type": "code",
      "metadata": {
        "colab": {
          "base_uri": "https://localhost:8080/",
          "height": 89
        },
        "id": "FIgi2UaDcHHr",
        "outputId": "5ef51648-d2a6-4c08-ea54-f3b35a191de7"
      },
      "source": [
        "# Finding the odd one out.\n",
        "model.doesnt_match('breakfast cereal dinner lunch'.split())"
      ],
      "execution_count": null,
      "outputs": [
        {
          "output_type": "stream",
          "name": "stderr",
          "text": [
            "/usr/local/lib/python3.7/dist-packages/gensim/models/keyedvectors.py:895: FutureWarning: arrays to stack must be passed as a \"sequence\" type such as list or tuple. Support for non-sequence iterables such as generators is deprecated as of NumPy 1.16 and will raise an error in the future.\n",
            "  vectors = vstack(self.word_vec(word, use_norm=True) for word in used_words).astype(REAL)\n"
          ]
        },
        {
          "output_type": "execute_result",
          "data": {
            "application/vnd.google.colaboratory.intrinsic+json": {
              "type": "string"
            },
            "text/plain": [
              "'cereal'"
            ]
          },
          "metadata": {},
          "execution_count": 29
        }
      ]
    },
    {
      "cell_type": "markdown",
      "metadata": {
        "id": "vg-SsjR4fFHG"
      },
      "source": [
        "Update changelog for 4.0.0 release to fix the FutureWarning"
      ]
    },
    {
      "cell_type": "markdown",
      "metadata": {
        "id": "Z4iV60zvktTL"
      },
      "source": [
        "---\n",
        "### **TO DO**\n",
        "> Use word2vec to vectorize the `entire sentence` into a `single vector`?\n",
        "\n",
        "* **Clue:** Think about the **`mean`** !"
      ]
    },
    {
      "cell_type": "code",
      "metadata": {
        "id": "oyOlVLHaXwac"
      },
      "source": [
        "!pip install gensim --quiet"
      ],
      "execution_count": null,
      "outputs": []
    },
    {
      "cell_type": "markdown",
      "metadata": {
        "id": "Ha_H6A7iiqCW"
      },
      "source": [
        "download the pre-trained word2vec model availbale [here](http://vectors.nlpl.eu/repository/20/40.zip)"
      ]
    },
    {
      "cell_type": "code",
      "metadata": {
        "colab": {
          "base_uri": "https://localhost:8080/"
        },
        "id": "W_m-sWDTYJA4",
        "outputId": "f0fc0ec2-30bb-45b4-91ab-799d545a95ac"
      },
      "source": [
        "!wget http://vectors.nlpl.eu/repository/20/40.zip --quiet\n",
        "!unzip 40.zip"
      ],
      "execution_count": null,
      "outputs": [
        {
          "output_type": "stream",
          "name": "stdout",
          "text": [
            "Archive:  40.zip\n",
            "  inflating: LIST                    \n",
            "  inflating: meta.json               \n",
            "  inflating: model.bin               \n",
            "  inflating: model.txt               \n",
            "  inflating: README                  \n"
          ]
        }
      ]
    },
    {
      "cell_type": "code",
      "metadata": {
        "id": "FrzEMjLTXzeE"
      },
      "source": [
        "from gensim.models import KeyedVectors\n",
        "import numpy as np"
      ],
      "execution_count": null,
      "outputs": []
    },
    {
      "cell_type": "code",
      "metadata": {
        "id": "JnOfVC8aYWvS"
      },
      "source": [
        "w2vec_model_path = \"model.bin\"\n",
        "model = KeyedVectors.load_word2vec_format(w2vec_model_path, binary=True)"
      ],
      "execution_count": null,
      "outputs": []
    },
    {
      "cell_type": "code",
      "metadata": {
        "colab": {
          "base_uri": "https://localhost:8080/"
        },
        "id": "8sj7GSz3YqYA",
        "outputId": "babbd68f-3170-4b0b-ae46-556a3b6ccbd2"
      },
      "source": [
        "model[\"holmes\"]"
      ],
      "execution_count": null,
      "outputs": [
        {
          "output_type": "execute_result",
          "data": {
            "text/plain": [
              "array([-0.309647, -0.127936, -0.136244, -0.252969,  0.410695,  0.206325,\n",
              "        0.119236, -0.244745, -0.436801,  0.058889,  0.237439,  0.247656,\n",
              "        0.072103,  0.044183, -0.424878,  0.367344,  0.153287,  0.343856,\n",
              "        0.232269, -0.181432, -0.050021,  0.225756,  0.71465 , -0.564166,\n",
              "       -0.168468, -0.153668,  0.300445, -0.220122, -0.021261,  0.25779 ,\n",
              "       -0.581744,  0.320341, -0.236189,  0.224906,  0.029358, -0.295143,\n",
              "        0.483847, -0.05832 ,  0.010784,  0.050842, -0.034141,  0.420114,\n",
              "        0.126926, -0.405974, -0.421415,  0.006092, -0.137557,  0.038477,\n",
              "        0.100005,  0.151401,  0.287163, -0.433263, -0.249083, -0.057834,\n",
              "        0.367427, -0.181977,  0.31608 ,  0.063203, -0.486009, -0.127354,\n",
              "       -0.283149,  0.028113, -0.150146, -0.38704 ,  0.033237,  0.146932,\n",
              "        0.470853, -0.151154,  0.064424,  0.146739, -0.164267, -0.094909,\n",
              "        0.443384, -0.055244,  0.117268, -0.221496, -0.185951,  0.056249,\n",
              "       -0.176986, -0.449508,  0.345431, -0.096014, -0.19798 ,  0.117698,\n",
              "       -0.162563, -0.181655, -0.18644 , -0.158727,  0.595464,  0.161437,\n",
              "       -0.382661,  0.148537,  0.173535,  0.370556, -0.346765,  0.055452,\n",
              "        0.024405, -0.002895,  0.081445,  0.354575], dtype=float32)"
            ]
          },
          "metadata": {},
          "execution_count": 5
        }
      ]
    },
    {
      "cell_type": "code",
      "metadata": {
        "colab": {
          "base_uri": "https://localhost:8080/"
        },
        "id": "Xs16VTuVY4_j",
        "outputId": "121fd4b8-c995-4756-f620-197276868666"
      },
      "source": [
        "model.most_similar(['holmes'], topn=5)"
      ],
      "execution_count": null,
      "outputs": [
        {
          "output_type": "execute_result",
          "data": {
            "text/plain": [
              "[('sherlock', 0.8416914939880371),\n",
              " ('parker', 0.8099909424781799),\n",
              " ('moriarty', 0.8039606809616089),\n",
              " ('sawyer', 0.8002701997756958),\n",
              " ('moore', 0.7932805418968201)]"
            ]
          },
          "metadata": {},
          "execution_count": 9
        }
      ]
    },
    {
      "cell_type": "code",
      "metadata": {
        "colab": {
          "base_uri": "https://localhost:8080/"
        },
        "id": "aSJqXdpLZlOE",
        "outputId": "3c3a05a0-6e56-4d92-964c-441469bffff7"
      },
      "source": [
        "model.most_similar(['king'], topn=5)"
      ],
      "execution_count": null,
      "outputs": [
        {
          "output_type": "execute_result",
          "data": {
            "text/plain": [
              "[('queen', 0.8029258251190186),\n",
              " ('prince', 0.773180365562439),\n",
              " ('prunaprismia', 0.7698008418083191),\n",
              " ('throne', 0.769690215587616),\n",
              " ('buwanekabahu', 0.7684906721115112)]"
            ]
          },
          "metadata": {},
          "execution_count": 8
        }
      ]
    },
    {
      "cell_type": "code",
      "metadata": {
        "colab": {
          "base_uri": "https://localhost:8080/"
        },
        "id": "Rr1YsF2FjN8P",
        "outputId": "0d248526-ba3c-4adc-b1ba-cb0bc61fc1dd"
      },
      "source": [
        "model.most_similar(positive=['woman', 'king'], negative=['man'], topn=1)"
      ],
      "execution_count": null,
      "outputs": [
        {
          "output_type": "execute_result",
          "data": {
            "text/plain": [
              "[('queen', 0.8487650156021118)]"
            ]
          },
          "metadata": {},
          "execution_count": 28
        }
      ]
    },
    {
      "cell_type": "markdown",
      "metadata": {
        "id": "Wat8sc9kjYEL"
      },
      "source": [
        "![image.png](data:image/png;base64,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)"
      ]
    },
    {
      "cell_type": "code",
      "metadata": {
        "id": "Y6GyUmkGZN-8"
      },
      "source": [
        "sentence = \"It was not that he felt any emotion akin to love for Irene Adler\""
      ],
      "execution_count": null,
      "outputs": []
    },
    {
      "cell_type": "markdown",
      "metadata": {
        "id": "WsF-8d8VibDV"
      },
      "source": [
        "Let's define a function that will take a **sentence** and a **model** and will return a **list** of the sentence word vectors:"
      ]
    },
    {
      "cell_type": "code",
      "metadata": {
        "id": "3GhX4QNgZZQc"
      },
      "source": [
        "def get_word_vectors(sentence, model):\n",
        "  word_vectors = []\n",
        "  for word in sentence:\n",
        "    try:\n",
        "      word_vector = model.get_vector(word.lower())\n",
        "      word_vectors.append(word_vector)\n",
        "    except KeyError:\n",
        "      continue\n",
        "  return word_vectors"
      ],
      "execution_count": null,
      "outputs": []
    },
    {
      "cell_type": "markdown",
      "metadata": {
        "id": "1mFMWllFh-_g"
      },
      "source": [
        "Let's print the vectors of the sentence words. Note, this model is taking `n-gram` level into consideration. For this reason, the number of words is smaller than the number of vectors."
      ]
    },
    {
      "cell_type": "code",
      "metadata": {
        "colab": {
          "base_uri": "https://localhost:8080/"
        },
        "id": "MWsyg3L-bYxe",
        "outputId": "0e4b633e-cffe-415b-e495-e9c3dd123c35"
      },
      "source": [
        "print(get_word_vectors(sentence, model)[:2])"
      ],
      "execution_count": null,
      "outputs": [
        {
          "output_type": "stream",
          "name": "stdout",
          "text": [
            "[array([ 0.342646,  0.057677,  0.143244, -0.464352,  0.233713, -0.308506,\n",
            "        0.066462, -0.348036,  0.298951,  0.361289, -0.14727 ,  0.502373,\n",
            "        0.277486,  0.399235, -0.090296,  0.441154,  0.228387,  0.248074,\n",
            "        0.133495,  0.297991,  0.216865,  0.106718, -0.36284 , -0.712249,\n",
            "       -0.123415, -0.016303, -0.035776, -0.37227 ,  0.1253  ,  0.079849,\n",
            "       -0.204326,  0.091829, -0.193901,  0.166729, -0.156868, -0.128699,\n",
            "        0.086192, -0.006307,  0.052609, -0.331948, -0.059798, -0.009533,\n",
            "       -0.174509,  0.057048,  0.06186 ,  0.478577,  0.217334,  0.06157 ,\n",
            "       -0.140354,  0.303486, -0.092714, -0.596469, -0.132788,  0.13608 ,\n",
            "       -0.363305,  0.078307,  0.247823, -0.064118, -0.1071  ,  0.037902,\n",
            "       -0.152804, -0.250827, -0.626714,  0.051925, -0.118149,  0.03284 ,\n",
            "        0.280331,  0.371999,  0.158893,  0.017888,  0.031942,  0.115191,\n",
            "        0.04824 , -0.493699,  0.246565,  0.069367, -0.555494,  0.327496,\n",
            "        0.276469, -0.033059,  0.158782,  0.524047,  0.029278,  0.21505 ,\n",
            "        0.018392, -0.142088, -0.092548,  0.003396,  0.521614,  0.223586,\n",
            "        0.012976,  0.532727,  0.199379,  0.23419 ,  0.283417, -0.448026,\n",
            "       -0.145218, -0.01364 , -0.255976, -0.010529], dtype=float32), array([ 0.199925,  0.378889,  0.404766, -0.573277,  0.486477,  0.091435,\n",
            "        0.108556, -0.026821,  0.267243,  0.079856,  0.258977,  0.423209,\n",
            "        0.249678,  0.003961,  0.077215,  0.498898, -0.041718, -0.078642,\n",
            "       -0.256458,  0.523623, -0.162622,  0.198427,  0.296731, -0.309188,\n",
            "       -0.315497,  0.425944, -0.161391, -0.080077,  0.295258,  0.038517,\n",
            "        0.056736,  0.222526,  0.02797 ,  0.172313,  0.177864, -0.370883,\n",
            "       -0.36306 ,  0.307442,  0.302358, -0.10379 ,  0.074881,  0.40258 ,\n",
            "       -0.216816,  0.149105,  0.333176,  0.370781, -0.204428,  0.147979,\n",
            "       -0.172697,  0.024085,  0.193012, -0.058623, -0.150286, -0.301508,\n",
            "        0.051146, -0.195913,  0.466474,  0.197322, -0.577041, -0.23858 ,\n",
            "       -0.11659 ,  0.175338,  0.14639 , -0.359469,  0.295867,  0.187066,\n",
            "        0.215789, -0.248007, -0.117177, -0.216235,  0.561009,  0.009204,\n",
            "        0.577829, -0.080034, -0.62753 , -0.614848, -0.389353,  0.345668,\n",
            "       -0.222405,  0.025867,  0.229187,  0.051555,  0.12234 ,  0.581186,\n",
            "        0.111403,  0.117702, -0.247448, -0.320716,  0.63975 , -0.463958,\n",
            "       -0.072461,  0.086174,  0.166448,  0.081113,  0.076878,  0.260105,\n",
            "       -0.385121,  0.08079 , -0.287608,  0.365314], dtype=float32)]\n"
          ]
        }
      ]
    },
    {
      "cell_type": "markdown",
      "metadata": {
        "id": "vTP2e13VhqEG"
      },
      "source": [
        "Now, let's define a function that will take the word vector list and compute the sentence vector the numpy build-in function `mean()`"
      ]
    },
    {
      "cell_type": "code",
      "metadata": {
        "id": "ytsVs5fubfrJ"
      },
      "source": [
        "def get_sentence_vector(word_vectors):\n",
        "  matrix = np.array(word_vectors)\n",
        "  centroid = np.mean(matrix[:,:], axis=0)\n",
        "  return centroid"
      ],
      "execution_count": null,
      "outputs": []
    },
    {
      "cell_type": "markdown",
      "metadata": {
        "id": "uHLu30yThbDN"
      },
      "source": [
        "`Important Note`\n",
        "> Averaging the word vectors (mean) to get the sentence vector is only one way of\n",
        "approaching this task, and is not without its problems. One alternative is to\n",
        "train a doc2vec model, where sentences, paragraphs, and whole documents can\n",
        "all be units instead of words."
      ]
    },
    {
      "cell_type": "markdown",
      "metadata": {
        "id": "AayoYiI6hUXI"
      },
      "source": [
        "We can now compute the sentence vector"
      ]
    },
    {
      "cell_type": "code",
      "metadata": {
        "colab": {
          "base_uri": "https://localhost:8080/"
        },
        "id": "DScS9MM1c3L5",
        "outputId": "37d575be-2b6f-4597-8e2f-abb7e7eabc2b"
      },
      "source": [
        "word_vectors = get_word_vectors(sentence, model)\n",
        "sentence_vector = get_sentence_vector(word_vectors)\n",
        "\n",
        "print(sentence_vector)"
      ],
      "execution_count": null,
      "outputs": [
        {
          "output_type": "stream",
          "name": "stdout",
          "text": [
            "[ 0.09181425  0.15028009  0.23886335 -0.32302463  0.43024594 -0.0576652\n",
            "  0.1289581   0.01948925 -0.00518169  0.05343727  0.14825349  0.34495983\n",
            "  0.13272947  0.05608438 -0.09138513  0.38390496  0.0778565   0.3021314\n",
            " -0.2509534   0.42235532 -0.13581464  0.15995607  0.19637276 -0.13049784\n",
            " -0.16852486  0.19896786 -0.1825887   0.00321069  0.23088776  0.01139577\n",
            "  0.08455776  0.05330068 -0.27108222  0.00711256  0.19430234 -0.21419361\n",
            " -0.09746335  0.02194656  0.16047275 -0.03786248 -0.02989919  0.3662489\n",
            " -0.14537916  0.08163083  0.14008534  0.4443864  -0.14930542  0.10604608\n",
            " -0.18289441  0.11659104 -0.18698621 -0.02354209 -0.11111044 -0.1986528\n",
            " -0.05731854  0.01502543  0.35236928  0.1760287  -0.31854567 -0.11829486\n",
            " -0.08492462  0.15937866  0.12598619 -0.3296073   0.01171029 -0.04234619\n",
            "  0.35265708 -0.13927169 -0.20887235 -0.03444232  0.31586298 -0.0095432\n",
            "  0.2551441  -0.14954203 -0.23829935 -0.33254564 -0.41208652  0.42861548\n",
            " -0.0586994   0.07393356  0.06321189  0.2402386   0.16439253  0.35806835\n",
            "  0.14272642  0.18324149 -0.18135531 -0.32749054  0.68380976 -0.13238403\n",
            " -0.10845678  0.25432333  0.01967994  0.11023781  0.09041649  0.23777483\n",
            " -0.11503956  0.15236841 -0.06905324  0.20372714]\n"
          ]
        }
      ]
    },
    {
      "cell_type": "markdown",
      "metadata": {
        "id": "Wwnke0Ghd7J8"
      },
      "source": [
        "This output represents the vector of the entire sentence, which of size 100"
      ]
    },
    {
      "cell_type": "code",
      "metadata": {
        "colab": {
          "base_uri": "https://localhost:8080/"
        },
        "id": "1bJgRfXadBhD",
        "outputId": "87ef82c6-adff-4c80-8c82-7eea1b9a2988"
      },
      "source": [
        "len(sentence_vector)"
      ],
      "execution_count": null,
      "outputs": [
        {
          "output_type": "execute_result",
          "data": {
            "text/plain": [
              "100"
            ]
          },
          "metadata": {},
          "execution_count": 26
        }
      ]
    }
  ]
}